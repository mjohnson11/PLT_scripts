{
 "cells": [
  {
   "cell_type": "code",
   "execution_count": 3,
   "metadata": {},
   "outputs": [],
   "source": [
    "!python PLT_BFA_env_labelling.py"
   ]
  },
  {
   "cell_type": "code",
   "execution_count": 2,
   "metadata": {},
   "outputs": [],
   "source": [
    "import pandas as pd\n",
    "pd.options.mode.chained_assignment = None  # default='warn'\n",
    "import glob"
   ]
  },
  {
   "cell_type": "code",
   "execution_count": 23,
   "metadata": {},
   "outputs": [
    {
     "name": "stdout",
     "output_type": "stream",
     "text": [
      "['../BFA_data/hBFA1_part1/hBFA1_part1_bc_counts_clustered.csv', '../BFA_data/hBFA1_part2/hBFA1_part2_bc_counts_clustered.csv']\n"
     ]
    }
   ],
   "source": [
    "input_files = glob.glob('../BFA_data/hBFA1*/*_bc_counts_clustered.csv')\n",
    "print(input_files)"
   ]
  },
  {
   "cell_type": "code",
   "execution_count": 24,
   "metadata": {},
   "outputs": [],
   "source": [
    "dats = []\n",
    "for f in input_files:\n",
    "    td = pd.read_csv(f)\n",
    "    td['Full.BC'] = td['Diverse.BC'] + td['Environment.BC']\n",
    "    dats.append(td)"
   ]
  },
  {
   "cell_type": "code",
   "execution_count": 25,
   "metadata": {},
   "outputs": [
    {
     "name": "stdout",
     "output_type": "stream",
     "text": [
      "hBFA1_part1_bc_counts_clustered.csv hBFA1_part2_bc_counts_clustered.csv 2664\n"
     ]
    }
   ],
   "source": [
    "for i in range(len(dats)):\n",
    "    for j in range(i+1, len(dats)):\n",
    "        print(input_files[i].split('/')[-1], input_files[j].split('/')[-1], len(set(dats[i]['Full.BC']).intersection(set(dats[j]['Full.BC']))))"
   ]
  },
  {
   "cell_type": "code",
   "execution_count": 26,
   "metadata": {},
   "outputs": [],
   "source": [
    "merge_type = 'inner'\n",
    "bc_cols = ['Full.BC', 'Diverse.BC', 'Environment.BC']\n",
    "time_cols = [c for c in dats[0].columns if 'Time' in c]\n",
    "running_dat = dats[0][bc_cols + time_cols]\n",
    "for d in dats[1:]:\n",
    "    tmp_time_cols = [c for c in d.columns if 'Time' in c]\n",
    "    repeat_time_cols = [c for c in tmp_time_cols if c in time_cols]\n",
    "    new_time_cols = [c for c in tmp_time_cols if c not in time_cols]\n",
    "    running_dat = running_dat.merge(d, on=bc_cols, how=merge_type, suffixes=('_old1', '_new1')).fillna(0)\n",
    "    for t in repeat_time_cols:\n",
    "        running_dat[t] = running_dat[t + '_old1'] + running_dat[t + '_new1']\n",
    "    time_cols += new_time_cols\n",
    "    running_dat = running_dat[bc_cols + time_cols]"
   ]
  },
  {
   "cell_type": "code",
   "execution_count": 27,
   "metadata": {},
   "outputs": [],
   "source": [
    "running_dat['Total.Counts'] = running_dat.apply(lambda drow: sum([drow[i] for i in time_cols]), axis=1)\n",
    "use_cols = bc_cols + ['Total.Counts'] + sorted(time_cols,\n",
    "                                               key=lambda c: c[:c.index('Time')+4] + c[c.index('Time')+4:].zfill(3))\n",
    "# excluding chimeras\n",
    "dd = dict(running_dat['Diverse.BC'].value_counts())\n",
    "dbc_with_mult_hits = set([d for d in running_dat['Diverse.BC'] if dd[d] > 1])\n",
    "fullbc_chimeras = []\n",
    "for dbc in dbc_with_mult_hits:\n",
    "    td2 = running_dat.loc[running_dat['Diverse.BC'] == dbc]\n",
    "    max_tot_reads = max(td2['Total.Counts'])\n",
    "    for entry in td2.as_matrix(['Full.BC', 'Total.Counts']):\n",
    "        if entry[1]/max_tot_reads < 0.01:\n",
    "            fullbc_chimeras.append(entry[0])\n",
    "running_dat['is_chimeric'] = running_dat.apply(lambda drow: drow['Full.BC'] in fullbc_chimeras, axis=1)\n",
    "d_no_chimeras = running_dat.loc[~running_dat['is_chimeric']]\n",
    "d_yes_chimeras = running_dat.loc[running_dat['is_chimeric']]"
   ]
  },
  {
   "cell_type": "code",
   "execution_count": 28,
   "metadata": {},
   "outputs": [
    {
     "name": "stdout",
     "output_type": "stream",
     "text": [
      "2587 77\n"
     ]
    }
   ],
   "source": [
    "print(len(d_no_chimeras), len(d_yes_chimeras))"
   ]
  },
  {
   "cell_type": "code",
   "execution_count": null,
   "metadata": {},
   "outputs": [],
   "source": []
  }
 ],
 "metadata": {
  "kernelspec": {
   "display_name": "Python 3",
   "language": "python",
   "name": "python3"
  },
  "language_info": {
   "codemirror_mode": {
    "name": "ipython",
    "version": 3
   },
   "file_extension": ".py",
   "mimetype": "text/x-python",
   "name": "python",
   "nbconvert_exporter": "python",
   "pygments_lexer": "ipython3",
   "version": "3.6.4"
  }
 },
 "nbformat": 4,
 "nbformat_minor": 2
}
